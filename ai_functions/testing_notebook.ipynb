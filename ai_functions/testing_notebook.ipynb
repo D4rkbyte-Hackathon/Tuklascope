{
 "cells": [
  {
   "cell_type": "code",
   "execution_count": 1,
   "id": "50bd0fc3",
   "metadata": {},
   "outputs": [
    {
     "name": "stdout",
     "output_type": "stream",
     "text": [
      "Setup complete. Functions imported successfully.\n"
     ]
    }
   ],
   "source": [
    "import ipywidgets as widgets\n",
    "from IPython.display import display, clear_output\n",
    "import os\n",
    "import io\n",
    "\n",
    "from ai_core import identify_object_from_image, generate_spark_content\n",
    "\n",
    "print(\"Setup complete. Functions imported successfully.\")"
   ]
  },
  {
   "cell_type": "code",
   "execution_count": 2,
   "id": "94821edc",
   "metadata": {},
   "outputs": [
    {
     "data": {
      "application/vnd.jupyter.widget-view+json": {
       "model_id": "dd8b30184eed44968fce3f0070c0fc7b",
       "version_major": 2,
       "version_minor": 0
      },
      "text/plain": [
       "FileUpload(value=(), accept='image/*', description='Upload Image')"
      ]
     },
     "metadata": {},
     "output_type": "display_data"
    },
    {
     "data": {
      "application/vnd.jupyter.widget-view+json": {
       "model_id": "ce89cf885cc94199874e2d2ea8804274",
       "version_major": 2,
       "version_minor": 0
      },
      "text/plain": [
       "Dropdown(description='Grade Level:', index=1, options=('Elementary', 'Junior High', 'Senior High'), value='Jun…"
      ]
     },
     "metadata": {},
     "output_type": "display_data"
    }
   ],
   "source": [
    "uploader = widgets.FileUpload(\n",
    "    accept='image/*',\n",
    "    description='Upload Image'\n",
    ")\n",
    "\n",
    "grade_level_selector = widgets.Dropdown(\n",
    "    options=['Elementary', 'Junior High', 'Senior High'],\n",
    "    value='Junior High',\n",
    "    description='Grade Level:',\n",
    "    disabled=False,\n",
    ")\n",
    "\n",
    "display(uploader, grade_level_selector)"
   ]
  },
  {
   "cell_type": "code",
   "execution_count": 3,
   "id": "16df3f65",
   "metadata": {},
   "outputs": [
    {
     "name": "stdout",
     "output_type": "stream",
     "text": [
      "Image saved temporarily to .\\temp_image.jpg\n",
      "Running identification...\n",
      "\n",
      "Identification Successful!\n",
      "{'object_label': 'Light Bulb', 'category_hint': 'technology'}\n"
     ]
    }
   ],
   "source": [
    "if not uploader.value:\n",
    "    print(\"Upload an image in Step 1 before running this cell.\")\n",
    "else:\n",
    "    uploaded_file = uploader.value[0]\n",
    "    image_data = uploaded_file['content']\n",
    "    \n",
    "    temp_image_path = os.path.join('.', 'temp_image.jpg')\n",
    "    \n",
    "    with open(temp_image_path, 'wb') as f:\n",
    "        f.write(image_data)\n",
    "        \n",
    "    print(f\"Image saved temporarily to {temp_image_path}\")\n",
    "    print(\"Running identification...\")\n",
    "    \n",
    "    # identify image\n",
    "    identification_result = identify_object_from_image(image_path=temp_image_path)\n",
    "    \n",
    "    if identification_result:\n",
    "        print(\"\\nIdentification Successful!\")\n",
    "        print(identification_result)\n",
    "    else:\n",
    "        print(\"\\nIdentification Failed.\")\n",
    "        \n",
    "    os.remove(temp_image_path)"
   ]
  },
  {
   "cell_type": "code",
   "execution_count": 4,
   "id": "fbf5f5c2",
   "metadata": {},
   "outputs": [
    {
     "name": "stdout",
     "output_type": "stream",
     "text": [
      "Generating content for 'Light Bulb' at a 'Elementary' level...\n",
      "\n",
      "Content Generation Successful!\n",
      "{\n",
      "  \"quick_facts\": \"Hello, future scientist! Have you ever wondered how we can play, read, or do our homework even when the sun has gone down? We have to thank the amazing bumbilya, or light bulb! This little glass ball completely changed the world by letting us have light whenever we want. Before the light bulb, people used candles or gas lamps, which could be smoky and dangerous. But here's a surprising fact: the very first light bulbs, the incandescent ones, actually produce more heat than light! Grabe, sobrang init, with about 90% of the electricity they use being wasted as heat!\",\n",
      "  \"stem_concepts\": \"Ang galing, 'di ba? Let's dive into the science behind that glow!\\n\\n### The Super Simple Circuit\\nImagine electricity is like water flowing through a pipe. For a light bulb to work, this electricity needs a complete path to travel, which we call a circuit. It flows from the power source (like a battery or the outlet in your wall), goes through a wire, enters the light bulb to make it shine, and then flows back out through another wire to complete the loop. If the path is broken, parang sirang tulay, the electricity stops, and the light turns off.\\n\\n### The Glowing Filament\\nInside an old-school incandescent bulb (the clear glass ones), there's a super thin, curly wire called a 'filament'. When electricity passes through this special wire, it struggles to get through. This struggle creates a lot of friction and makes the filament get incredibly hot\\u2014so hot that it glows brightly! It's the same reason a blacksmith's (panday) metal glows red when heated in a fire.\\n\\n### Cool Kids on the Block: LEDs\\nNowadays, we often use LED (Light Emitting Diode) bulbs. They are the 'new school' and work very differently! Instead of a hot filament, they use tiny particles to create light when electricity passes through them. This method is way more efficient, which means they don't get as hot and they help your parents save money on the Meralco bill. Tipid-tipid din 'pag may time!\",\n",
      "  \"hands_on_project\": \"### Project: Gumawa ng Sarili Mong Ilaw! (Make Your Own Light!)\\n\\n**Important:** Laging magpatulong kay Mommy, Daddy, or a guardian when doing any science project, okay?\\n\\n**Mga Kailangan (Materials):**\\n*   One (1) AA or AAA battery (you can borrow one from a TV remote or a toy)\\n*   One (1) small light bulb (a bulb from a Christmas light strand is perfect!)\\n*   Two (2) small pieces of electrical wire (about 6 inches long). If you don't have wire, you can use two long, thin strips of aluminum foil instead.\\n\\n**Steps:**\\n1.  **Prepare your materials.** Make sure the ends of your wires are exposed. If you're using aluminum foil, fold it into thin, strong strips.\\n2.  **Connect the first wire.** Take one wire or foil strip. Carefully tape or hold one end to the bottom part of the battery (the flat side, which is the negative terminal).\\n3.  **Connect to the bulb.** Take the other end of that same wire/foil and wrap it around the metal screw part (the side) of the light bulb.\\n4.  **Connect the second wire.** Now, take your second wire or foil strip. Tape or hold one end to the top part of the battery (the side with the small bump, the positive terminal).\\n5.  **Let there be light!** Carefully touch the free end of the second wire/foil to the very bottom metal tip of the light bulb. And... anong nangyari? It should light up! You just made a complete circuit. Ang galing mo!\"\n",
      "}\n"
     ]
    }
   ],
   "source": [
    "if 'identification_result' not in locals() or not identification_result:\n",
    "    print(\"Please run Step 2 successfully before running this cell.\")\n",
    "else:\n",
    "    selected_grade = grade_level_selector.value\n",
    "    \n",
    "    print(f\"Generating content for '{identification_result.get('object_label')}' at a '{selected_grade}' level...\")\n",
    "    \n",
    "    # generate 3 cards\n",
    "    final_content = generate_spark_content(\n",
    "        object_info=identification_result,\n",
    "        grade_level=selected_grade\n",
    "    )\n",
    "    \n",
    "    if final_content:\n",
    "        print(\"\\nContent Generation Successful!\")\n",
    "        import json\n",
    "        print(json.dumps(final_content, indent=2))\n",
    "    else:\n",
    "        print(\"\\n Content Generation Failed.\")"
   ]
  }
 ],
 "metadata": {
  "kernelspec": {
   "display_name": "Python 3 (ipykernel)",
   "language": "python",
   "name": "python3"
  },
  "language_info": {
   "codemirror_mode": {
    "name": "ipython",
    "version": 3
   },
   "file_extension": ".py",
   "mimetype": "text/x-python",
   "name": "python",
   "nbconvert_exporter": "python",
   "pygments_lexer": "ipython3",
   "version": "3.13.5"
  }
 },
 "nbformat": 4,
 "nbformat_minor": 5
}
