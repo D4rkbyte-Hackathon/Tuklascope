{
 "cells": [
  {
   "cell_type": "code",
   "execution_count": null,
   "id": "50bd0fc3",
   "metadata": {},
   "outputs": [
    {
     "name": "stdout",
     "output_type": "stream",
     "text": [
      "API Key loaded successfully.\n"
     ]
    }
   ],
   "source": [
    "# Test API kEY:\n",
    "import os\n",
    "from dotenv import load_dotenv\n",
    "load_dotenv()\n",
    "\n",
    "api_key = os.getenv(\"GEMINI_API_KEY\")\n",
    "\n",
    "if api_key:\n",
    "    print(f\"API Key loaded successfully.\")\n",
    "else:\n",
    "    print(\"ERROR: API Key\")"
   ]
  },
  {
   "cell_type": "code",
   "execution_count": 57,
   "id": "94821edc",
   "metadata": {},
   "outputs": [
    {
     "name": "stdout",
     "output_type": "stream",
     "text": [
      "SuccessAI Response:\n",
      "The national bird of the Philippines is the **Philippine Eagle** (*Pithecophaga jefferyi*).\n",
      "\n",
      "Here are some key facts about this magnificent bird:\n",
      "\n",
      "*   **Other Names:** It is also known as the monkey-eating eagle.\n",
      "*   **Appearance:** It is one of the largest, rarest, and most powerful eagles in the world, famous for its shaggy, lion-like crest.\n",
      "*   **Endemic:** It can only be found in the Philippines, specifically on the islands of Luzon, Samar, Leyte, and Mindanao.\n",
      "*   **Conservation Status:** The Philippine Eagle is **critically endangered**, primarily due to massive habitat loss from deforestation.\n",
      "*   **Symbolism:** It was declared the national bird in 1995 and is a symbol of the strength, bravery, and unique natural heritage of the Filipino people.\n"
     ]
    }
   ],
   "source": [
    "# Tst connection with simple prompt\n",
    "import google.generativeai as genai\n",
    "try:\n",
    "    text_only_model = genai.GenerativeModel('gemini-2.5-pro') \n",
    "    response = text_only_model.generate_content(\"What is the national bird of the Philippines?\")\n",
    "    \n",
    "    print(\"SuccessAI Response:\")\n",
    "    print(response.text)\n",
    "except Exception as e:\n",
    "    print(f\"FAILED to connect to the AI service. Error: {e}\")"
   ]
  },
  {
   "cell_type": "code",
   "execution_count": 52,
   "id": "16df3f65",
   "metadata": {},
   "outputs": [
    {
     "name": "stdout",
     "output_type": "stream",
     "text": [
      "✅ Setup complete. AI functions are ready.\n"
     ]
    }
   ],
   "source": [
    "import ipywidgets as widgets\n",
    "from IPython.display import display, Markdown\n",
    "import json\n",
    "from ai_core import identify_object, generate_learning_cards, extract_skills\n",
    "\n",
    "print(\"✅ Setup complete. AI functions are ready.\")"
   ]
  },
  {
   "cell_type": "code",
   "execution_count": 53,
   "id": "fbf5f5c2",
   "metadata": {},
   "outputs": [
    {
     "data": {
      "text/markdown": [
       "### 1. Upload Your Test Image:"
      ],
      "text/plain": [
       "<IPython.core.display.Markdown object>"
      ]
     },
     "metadata": {},
     "output_type": "display_data"
    },
    {
     "data": {
      "application/vnd.jupyter.widget-view+json": {
       "model_id": "5f246f59d35f4ce3a5d102b3a5c38d79",
       "version_major": 2,
       "version_minor": 0
      },
      "text/plain": [
       "FileUpload(value=(), accept='image/*', description='Upload Image')"
      ]
     },
     "metadata": {},
     "output_type": "display_data"
    },
    {
     "data": {
      "text/markdown": [
       "### 2. Select a Grade Level:"
      ],
      "text/plain": [
       "<IPython.core.display.Markdown object>"
      ]
     },
     "metadata": {},
     "output_type": "display_data"
    },
    {
     "data": {
      "application/vnd.jupyter.widget-view+json": {
       "model_id": "05f8b0d815a34553a492f629ff21b899",
       "version_major": 2,
       "version_minor": 0
      },
      "text/plain": [
       "Dropdown(description='Grade Level:', index=1, options=('Elementary', 'Junior High School', 'Senior High School…"
      ]
     },
     "metadata": {},
     "output_type": "display_data"
    }
   ],
   "source": [
    "display(Markdown(\"### 1. Upload Your Test Image:\"))\n",
    "uploader = widgets.FileUpload(\n",
    "    accept='image/*',\n",
    "    multiple=False,\n",
    "    description='Upload Image'\n",
    ")\n",
    "display(uploader)\n",
    "\n",
    "display(Markdown(\"### 2. Select a Grade Level:\"))\n",
    "grade_level_selector = widgets.Dropdown(\n",
    "    options=['Elementary', 'Junior High School', 'Senior High School'],\n",
    "    value='Junior High School', # Default value\n",
    "    description='Grade Level:'\n",
    ")\n",
    "display(grade_level_selector)"
   ]
  },
  {
   "cell_type": "code",
   "execution_count": 54,
   "id": "0fdd89b8",
   "metadata": {},
   "outputs": [
    {
     "data": {
      "text/markdown": [
       "#### 1. Identifying Object..."
      ],
      "text/plain": [
       "<IPython.core.display.Markdown object>"
      ]
     },
     "metadata": {},
     "output_type": "display_data"
    },
    {
     "data": {
      "text/markdown": [
       "**Identified Object:** `mouse` <br> **Category:** `Computer Peripheral`"
      ],
      "text/plain": [
       "<IPython.core.display.Markdown object>"
      ]
     },
     "metadata": {},
     "output_type": "display_data"
    }
   ],
   "source": [
    "if not uploader.value:\n",
    "    display(Markdown(\"### Upload an image in Cell 2 before running this.\"))\n",
    "else:\n",
    "    image_bytes = uploader.value[0]['content']\n",
    "    selected_grade_level = grade_level_selector.value\n",
    "    \n",
    "    display(Markdown(\"#### 1. Identifying Object...\"))\n",
    "    identified_data = identify_object(image_bytes)\n",
    "    \n",
    "    if identified_data:\n",
    "        object_name = identified_data.get(\"object_name\")\n",
    "        category = identified_data.get(\"category\")\n",
    "        display(Markdown(f\"**Identified Object:** `{object_name}` <br> **Category:** `{category}`\"))"
   ]
  },
  {
   "cell_type": "code",
   "execution_count": 59,
   "id": "99941779",
   "metadata": {},
   "outputs": [
    {
     "data": {
      "text/markdown": [
       "#### 2. Generating Learning Cards..."
      ],
      "text/plain": [
       "<IPython.core.display.Markdown object>"
      ]
     },
     "metadata": {},
     "output_type": "display_data"
    },
    {
     "name": "stdout",
     "output_type": "stream",
     "text": [
      "{\n",
      "  \"quick_facts\": {\n",
      "    \"title\": \"Konektado Ka Ba? The Mighty Mouse!\",\n",
      "    \"content\": \"Hey techie! You probably use a computer mouse every day for online classes or maybe even for dominating in games like Valorant. This handy gadget lets you point, click, and drag things around your screen, making it a super important tool for navigating the digital world. But here's a fun fact: the very first computer mouse, invented by Douglas Engelbart in 1964, was actually a bulky wooden box with metal wheels! It was nicknamed 'mouse' simply because the cord sticking out the back looked like a tail.\"\n",
      "  },\n",
      "  \"stem_concepts\": {\n",
      "    \"title\": \"How Your Mouse 'Sees': The Magic of Optical Sensors\",\n",
      "    \"concept\": \"PHYSICS & ENGINEERING\",\n",
      "    \"explanation\": \"Ever wondered how your mouse knows where you're moving it? It's not magic, it's physics! Most mice today are 'optical', meaning they use light to track movement. Inside your mouse, there's a small Light Emitting Diode (LED), often red, that shines a beam of light onto the surface below. A tiny camera, called a CMOS sensor, takes thousands of pictures of this illuminated surface every second. A small processor inside the mouse then compares these pictures. If the texture or pattern in the new picture has shifted to the left, the mouse tells your computer, 'Hey, we're moving left!' and your cursor follows. It does this incredibly fast, which is why the cursor's movement appears perfectly smooth to you.\"\n",
      "  },\n",
      "  \"home_project\": {\n",
      "    \"title\": \"The Great Mouse Surface Test\",\n",
      "    \"objective\": \"To discover which common household surfaces work best (and worst) for an optical mouse and understand why.\",\n",
      "    \"materials\": [\n",
      "      \"An optical computer mouse and a computer/laptop\",\n",
      "      \"A piece of plain bond paper\",\n",
      "      \"A piece of cloth or 'tela' (like from a t-shirt or a 'panyo')\",\n",
      "      \"A wooden surface (like a table)\",\n",
      "      \"A glossy surface (like a magazine cover or a plastic folder)\",\n",
      "      \"A clear, reflective surface (like a clean, dry 'plato' or ceramic plate)\"\n",
      "    ],\n",
      "    \"instructions\": [\n",
      "      {\n",
      "        \"step\": 1,\n",
      "        \"description\": \"Set Up: Plug in your mouse and open a program like MS Paint or any word processor where you can see the cursor clearly.\"\n",
      "      },\n",
      "      {\n",
      "        \"step\": 2,\n",
      "        \"description\": \"The Control Test: First, use the mouse on the plain bond paper. Move the cursor around in circles and lines. Notice how smoothly it moves. This is your 'control'\\u2014the standard you'll compare everything else to.\"\n",
      "      },\n",
      "      {\n",
      "        \"step\": 3,\n",
      "        \"description\": \"The Fabric Challenge: Now, try using the mouse on the piece of cloth ('tela'). How does the cursor behave? Is it smooth, jumpy, or does it barely move?\"\n",
      "      },\n",
      "      {\n",
      "        \"step\": 4,\n",
      "        \"description\": \"The Glossy Showdown: Next, test the mouse on the glossy magazine cover. Observe the cursor's movement. Is it better or worse than the paper and cloth?\"\n",
      "      },\n",
      "      {\n",
      "        \"step\": 5,\n",
      "        \"description\": \"The Plate Test: Finally, try moving your mouse on the flat surface of the clean, dry plate ('plato'). What happens to the cursor? Does it move at all?\"\n",
      "      }\n",
      "    ],\n",
      "    \"conclusion\": \"You likely found that the mouse worked best on the paper and wood, okay on the cloth, and poorly on the glossy and ceramic surfaces. That's because the mouse's optical sensor needs a non-reflective surface with some texture to 'see' movement. Highly reflective or transparent surfaces bounce the LED light back in a confusing way (or not at all), making it impossible for the sensor to track changes, which causes your cursor to freeze or jump around!\"\n",
      "  }\n",
      "}\n"
     ]
    }
   ],
   "source": [
    "if not uploader.value:\n",
    "    display(Markdown(\"### Upload an image in Cell 2 before running this.\"))\n",
    "else:\n",
    "    image_bytes = uploader.value[0]['content']\n",
    "    selected_grade_level = grade_level_selector.value\n",
    "    \n",
    "    identified_data = identify_object(image_bytes)\n",
    "    \n",
    "    if identified_data:\n",
    "        object_name = identified_data.get(\"object_name\")\n",
    "        category = identified_data.get(\"category\")\n",
    "\n",
    "        display(Markdown(\"#### 2. Generating Learning Cards...\"))\n",
    "        sample_response = generate_learning_cards(object_name, category, grade_level_selector)\n",
    "\n",
    "        if sample_response:\n",
    "            print(json.dumps(sample_response, indent=2))\n",
    "        else:\n",
    "            print(\"Failed to get a response.\")\n",
    "            "
   ]
  },
  {
   "cell_type": "code",
   "execution_count": 60,
   "id": "04518913",
   "metadata": {},
   "outputs": [
    {
     "data": {
      "text/markdown": [
       "#### 3. Extracting Skills..."
      ],
      "text/plain": [
       "<IPython.core.display.Markdown object>"
      ]
     },
     "metadata": {},
     "output_type": "display_data"
    },
    {
     "name": "stdout",
     "output_type": "stream",
     "text": [
      "An error occurred during skill extraction: 429 You exceeded your current quota, please check your plan and billing details. For more information on this error, head to: https://ai.google.dev/gemini-api/docs/rate-limits. [violations {\n",
      "  quota_metric: \"generativelanguage.googleapis.com/generate_content_free_tier_requests\"\n",
      "  quota_id: \"GenerateRequestsPerDayPerProjectPerModel-FreeTier\"\n",
      "  quota_dimensions {\n",
      "    key: \"model\"\n",
      "    value: \"gemini-1.5-flash\"\n",
      "  }\n",
      "  quota_dimensions {\n",
      "    key: \"location\"\n",
      "    value: \"global\"\n",
      "  }\n",
      "  quota_value: 50\n",
      "}\n",
      ", links {\n",
      "  description: \"Learn more about Gemini API quotas\"\n",
      "  url: \"https://ai.google.dev/gemini-api/docs/rate-limits\"\n",
      "}\n",
      ", retry_delay {\n",
      "  seconds: 7\n",
      "}\n",
      "]\n"
     ]
    }
   ],
   "source": [
    "display(Markdown(\"#### 3. Extracting Skills...\"))\n",
    "full_text_content = json.dumps(sample_response)\n",
    "skills = extract_skills(full_text_content)\n",
    "            \n",
    "if skills:\n",
    "    display(Markdown(f\"**Extracted STEM Skills:** `{skills}`\"))"
   ]
  }
 ],
 "metadata": {
  "kernelspec": {
   "display_name": "venv",
   "language": "python",
   "name": "python3"
  },
  "language_info": {
   "codemirror_mode": {
    "name": "ipython",
    "version": 3
   },
   "file_extension": ".py",
   "mimetype": "text/x-python",
   "name": "python",
   "nbconvert_exporter": "python",
   "pygments_lexer": "ipython3",
   "version": "3.13.5"
  }
 },
 "nbformat": 4,
 "nbformat_minor": 5
}
